{
 "cells": [
  {
   "cell_type": "markdown",
   "id": "cc07b746",
   "metadata": {},
   "source": [
    "**Deep Learning Based Product Reordering Prediction**\n"
   ]
  },
  {
   "cell_type": "code",
   "execution_count": 1,
   "id": "1274413b",
   "metadata": {},
   "outputs": [],
   "source": [
    "# 1. Import Required Libraries\n",
    "import pandas as pd\n",
    "import numpy as np\n",
    "from sklearn.model_selection import train_test_split\n",
    "from sklearn.preprocessing import StandardScaler\n",
    "from sklearn.metrics import classification_report, confusion_matrix, roc_auc_score\n",
    "from tensorflow.keras.models import Sequential\n",
    "from tensorflow.keras.layers import Dense, Dropout, BatchNormalization\n",
    "from tensorflow.keras.callbacks import EarlyStopping\n",
    "from scipy.stats import skew"
   ]
  },
  {
   "cell_type": "code",
   "execution_count": 2,
   "id": "e87e0053",
   "metadata": {},
   "outputs": [],
   "source": [
    "# 2. Load Data\n",
    "orders = pd.read_csv('orders.csv')\n",
    "prior = pd.read_csv('order_products__prior.csv')\n",
    "train = pd.read_csv('order_products__train.csv')\n",
    "products = pd.read_csv('products.csv')\n",
    "aisles = pd.read_csv('aisles.csv')\n",
    "departments = pd.read_csv('departments.csv')\n"
   ]
  },
  {
   "cell_type": "code",
   "execution_count": 3,
   "id": "db3b4e81",
   "metadata": {},
   "outputs": [],
   "source": [
    "prior_sampled = prior.sample(frac=0.02, random_state=42)  # 10% sample\n",
    "orders_sampled = orders[orders['order_id'].isin(prior_sampled['order_id'])]\n",
    "\n",
    "merged = prior_sampled.merge(orders_sampled, on='order_id', how='left')\n",
    "merged = merged.merge(products, on='product_id', how='left')\n",
    "merged = merged.merge(aisles, on='aisle_id', how='left')\n",
    "merged = merged.merge(departments, on='department_id', how='left')\n"
   ]
  },
  {
   "cell_type": "code",
   "execution_count": 4,
   "id": "554ad3e5",
   "metadata": {},
   "outputs": [],
   "source": [
    "# 4. Feature Engineering\n",
    "user_total_orders = merged.groupby('user_id')['order_number'].max().reset_index(name='user_total_orders')\n",
    "order_size = merged.groupby('order_id')['product_id'].count().reset_index(name='order_size')\n",
    "product_reorder_rate = merged.groupby('product_id')['reordered'].mean().reset_index(name='product_reorder_rate')\n",
    "user_reorder_ratio = merged.groupby('user_id')['reordered'].mean().reset_index(name='user_reorder_ratio')\n",
    "user_product_orders = merged.groupby(['user_id', 'product_id']).size().reset_index(name='user_product_order_count')\n"
   ]
  },
  {
   "cell_type": "code",
   "execution_count": 5,
   "id": "5ee9c891",
   "metadata": {},
   "outputs": [],
   "source": [
    "# Merge features into main dataframe\n",
    "merged = merged.merge(user_total_orders, on='user_id', how='left')\n",
    "merged = merged.merge(order_size, on='order_id', how='left')\n",
    "merged = merged.merge(product_reorder_rate, on='product_id', how='left')\n",
    "merged = merged.merge(user_reorder_ratio, on='user_id', how='left')\n",
    "merged = merged.merge(user_product_orders, on=['user_id', 'product_id'], how='left')\n",
    "\n",
    "# Time-based features\n",
    "merged['is_weekend'] = merged['order_dow'].apply(lambda x: 1 if x in [0, 6] else 0)\n",
    "merged['is_morning_order'] = merged['order_hour_of_day'].apply(lambda x: 1 if 5 <= x <= 11 else 0)\n"
   ]
  },
  {
   "cell_type": "code",
   "execution_count": 6,
   "id": "7e0f0c0f",
   "metadata": {},
   "outputs": [],
   "source": [
    "# 5. Prepare Final Dataset\n",
    "merged = merged.drop(columns=[\"product_name\",\"eval_set\",\"aisle\",\"department\"] , errors='ignore')\n",
    "features = ['user_total_orders', 'order_size', 'product_reorder_rate', 'user_reorder_ratio',\n",
    "            'user_product_order_count', 'days_since_prior_order', 'order_hour_of_day', 'order_dow',\n",
    "            'is_weekend', 'is_morning_order']\n",
    "X = merged[features].fillna(0)\n",
    "y = merged['reordered']"
   ]
  },
  {
   "cell_type": "code",
   "execution_count": 7,
   "id": "3945e339",
   "metadata": {},
   "outputs": [
    {
     "name": "stdout",
     "output_type": "stream",
     "text": [
      "Feature Skewness:\n",
      " user_product_order_count    3.755845\n",
      "order_size                  2.094216\n",
      "days_since_prior_order      1.057430\n",
      "user_total_orders           1.044069\n",
      "is_weekend                  0.721496\n",
      "is_morning_order            0.691302\n",
      "order_dow                   0.182293\n",
      "order_hour_of_day          -0.045956\n",
      "user_reorder_ratio         -0.646925\n",
      "product_reorder_rate       -1.017942\n",
      "dtype: float64\n"
     ]
    }
   ],
   "source": [
    "# Analyze skewness\n",
    "skewed_feats = X.apply(lambda x: skew(x.dropna())).sort_values(ascending=False)\n",
    "print(\"Feature Skewness:\\n\", skewed_feats)\n",
    "\n",
    "# Log transform skewed features with skewness > 0.75\n",
    "high_skew = skewed_feats[skewed_feats > 0.75].index\n",
    "X[high_skew] = X[high_skew].apply(lambda x: np.log1p(x))\n",
    "\n"
   ]
  },
  {
   "cell_type": "code",
   "execution_count": 8,
   "id": "96f80c07",
   "metadata": {},
   "outputs": [],
   "source": [
    "# Normalize features\n",
    "scaler = StandardScaler()\n",
    "X_scaled = scaler.fit_transform(X)\n"
   ]
  },
  {
   "cell_type": "code",
   "execution_count": 9,
   "id": "342c54bf",
   "metadata": {},
   "outputs": [],
   "source": [
    "# 6. Train-Test Split\n",
    "x_train, x_val, y_train, y_val = train_test_split(X_scaled, y, test_size=0.2, random_state=42)\n"
   ]
  },
  {
   "cell_type": "code",
   "execution_count": 10,
   "id": "7bff04a9",
   "metadata": {},
   "outputs": [
    {
     "name": "stderr",
     "output_type": "stream",
     "text": [
      "c:\\Users\\Admin\\AppData\\Local\\Programs\\Python\\Python312\\Lib\\site-packages\\keras\\src\\layers\\core\\dense.py:87: UserWarning: Do not pass an `input_shape`/`input_dim` argument to a layer. When using Sequential models, prefer using an `Input(shape)` object as the first layer in the model instead.\n",
      "  super().__init__(activity_regularizer=activity_regularizer, **kwargs)\n"
     ]
    }
   ],
   "source": [
    "# 7. Build Deep Neural Network\n",
    "model = Sequential()\n",
    "model.add(Dense(128, input_dim=x_train.shape[1], activation='relu'))\n",
    "model.add(BatchNormalization())\n",
    "model.add(Dropout(0.3))\n",
    "model.add(Dense(64, activation='relu'))\n",
    "model.add(Dropout(0.3))\n",
    "model.add(Dense(1, activation='sigmoid'))\n",
    "\n",
    "model.compile(optimizer='adam', loss='binary_crossentropy', metrics=['accuracy'])\n"
   ]
  },
  {
   "cell_type": "code",
   "execution_count": 15,
   "id": "b84da489",
   "metadata": {},
   "outputs": [
    {
     "name": "stdout",
     "output_type": "stream",
     "text": [
      "Epoch 1/10\n",
      "\u001b[1m16218/16218\u001b[0m \u001b[32m━━━━━━━━━━━━━━━━━━━━\u001b[0m\u001b[37m\u001b[0m \u001b[1m47s\u001b[0m 3ms/step - accuracy: 0.8053 - loss: 0.4009 - val_accuracy: 0.8078 - val_loss: 0.3904\n",
      "Epoch 2/10\n",
      "\u001b[1m16218/16218\u001b[0m \u001b[32m━━━━━━━━━━━━━━━━━━━━\u001b[0m\u001b[37m\u001b[0m \u001b[1m49s\u001b[0m 3ms/step - accuracy: 0.8058 - loss: 0.3986 - val_accuracy: 0.8099 - val_loss: 0.3896\n",
      "Epoch 3/10\n",
      "\u001b[1m16218/16218\u001b[0m \u001b[32m━━━━━━━━━━━━━━━━━━━━\u001b[0m\u001b[37m\u001b[0m \u001b[1m47s\u001b[0m 3ms/step - accuracy: 0.8062 - loss: 0.3975 - val_accuracy: 0.8083 - val_loss: 0.3883\n",
      "Epoch 4/10\n",
      "\u001b[1m16218/16218\u001b[0m \u001b[32m━━━━━━━━━━━━━━━━━━━━\u001b[0m\u001b[37m\u001b[0m \u001b[1m48s\u001b[0m 3ms/step - accuracy: 0.8060 - loss: 0.3978 - val_accuracy: 0.8097 - val_loss: 0.3873\n",
      "Epoch 5/10\n",
      "\u001b[1m16218/16218\u001b[0m \u001b[32m━━━━━━━━━━━━━━━━━━━━\u001b[0m\u001b[37m\u001b[0m \u001b[1m49s\u001b[0m 3ms/step - accuracy: 0.8057 - loss: 0.3973 - val_accuracy: 0.8088 - val_loss: 0.3897\n",
      "Epoch 6/10\n",
      "\u001b[1m16218/16218\u001b[0m \u001b[32m━━━━━━━━━━━━━━━━━━━━\u001b[0m\u001b[37m\u001b[0m \u001b[1m46s\u001b[0m 3ms/step - accuracy: 0.8063 - loss: 0.3960 - val_accuracy: 0.8099 - val_loss: 0.3874\n",
      "Epoch 7/10\n",
      "\u001b[1m16218/16218\u001b[0m \u001b[32m━━━━━━━━━━━━━━━━━━━━\u001b[0m\u001b[37m\u001b[0m \u001b[1m47s\u001b[0m 3ms/step - accuracy: 0.8067 - loss: 0.3964 - val_accuracy: 0.8092 - val_loss: 0.3871\n",
      "Epoch 8/10\n",
      "\u001b[1m16218/16218\u001b[0m \u001b[32m━━━━━━━━━━━━━━━━━━━━\u001b[0m\u001b[37m\u001b[0m \u001b[1m48s\u001b[0m 3ms/step - accuracy: 0.8071 - loss: 0.3948 - val_accuracy: 0.8098 - val_loss: 0.3867\n",
      "Epoch 9/10\n",
      "\u001b[1m16218/16218\u001b[0m \u001b[32m━━━━━━━━━━━━━━━━━━━━\u001b[0m\u001b[37m\u001b[0m \u001b[1m49s\u001b[0m 3ms/step - accuracy: 0.8074 - loss: 0.3941 - val_accuracy: 0.8098 - val_loss: 0.3872\n",
      "Epoch 10/10\n",
      "\u001b[1m16218/16218\u001b[0m \u001b[32m━━━━━━━━━━━━━━━━━━━━\u001b[0m\u001b[37m\u001b[0m \u001b[1m49s\u001b[0m 3ms/step - accuracy: 0.8067 - loss: 0.3956 - val_accuracy: 0.8102 - val_loss: 0.3872\n"
     ]
    },
    {
     "data": {
      "text/plain": [
       "<keras.src.callbacks.history.History at 0x17aef7b95b0>"
      ]
     },
     "execution_count": 15,
     "metadata": {},
     "output_type": "execute_result"
    }
   ],
   "source": [
    "# 8. Train Model\n",
    "callbacks = [EarlyStopping(patience=3, restore_best_weights=True)]\n",
    "model.fit(x_train, y_train, epochs=10, batch_size=32, validation_data=(x_val, y_val), callbacks=callbacks)"
   ]
  },
  {
   "cell_type": "code",
   "execution_count": 16,
   "id": "702f088b",
   "metadata": {},
   "outputs": [
    {
     "name": "stdout",
     "output_type": "stream",
     "text": [
      "\u001b[1m4055/4055\u001b[0m \u001b[32m━━━━━━━━━━━━━━━━━━━━\u001b[0m\u001b[37m\u001b[0m \u001b[1m5s\u001b[0m 1ms/step\n",
      "              precision    recall  f1-score   support\n",
      "\n",
      "           0       0.82      0.69      0.75     53271\n",
      "           1       0.81      0.89      0.85     76467\n",
      "\n",
      "    accuracy                           0.81    129738\n",
      "   macro avg       0.81      0.79      0.80    129738\n",
      "weighted avg       0.81      0.81      0.81    129738\n",
      "\n",
      "ROC-AUC: 0.8924475258352587\n",
      "Confusion Matrix:\n",
      " [[36792 16479]\n",
      " [ 8202 68265]]\n"
     ]
    }
   ],
   "source": [
    "# 9. Evaluate Model\n",
    "y_pred = model.predict(x_val)\n",
    "y_pred_class = (y_pred > 0.5).astype(int)\n",
    "print(classification_report(y_val, y_pred_class))\n",
    "print(\"ROC-AUC:\", roc_auc_score(y_val, y_pred))\n",
    "print(\"Confusion Matrix:\\n\", confusion_matrix(y_val, y_pred_class))\n",
    "\n"
   ]
  },
  {
   "cell_type": "code",
   "execution_count": 17,
   "id": "641f438b",
   "metadata": {},
   "outputs": [
    {
     "name": "stderr",
     "output_type": "stream",
     "text": [
      "WARNING:absl:You are saving your model as an HDF5 file via `model.save()` or `keras.saving.save_model(model)`. This file format is considered legacy. We recommend using instead the native Keras format, e.g. `model.save('my_model.keras')` or `keras.saving.save_model(model, 'my_model.keras')`. \n"
     ]
    }
   ],
   "source": [
    "# 10. Save Model\n",
    "model.save('product_reorder_dnn_model.h5')"
   ]
  }
 ],
 "metadata": {
  "kernelspec": {
   "display_name": "Python 3",
   "language": "python",
   "name": "python3"
  },
  "language_info": {
   "codemirror_mode": {
    "name": "ipython",
    "version": 3
   },
   "file_extension": ".py",
   "mimetype": "text/x-python",
   "name": "python",
   "nbconvert_exporter": "python",
   "pygments_lexer": "ipython3",
   "version": "3.12.4"
  }
 },
 "nbformat": 4,
 "nbformat_minor": 5
}
